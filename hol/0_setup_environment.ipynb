{
 "cells": [
  {
   "cell_type": "markdown",
   "id": "1518ad26",
   "metadata": {},
   "source": [
    "# Environment Setup"
   ]
  },
  {
   "cell_type": "markdown",
   "id": "2f4d4ecd",
   "metadata": {},
   "source": [
    "## Imports"
   ]
  },
  {
   "cell_type": "code",
   "execution_count": 1,
   "id": "f01b6c12",
   "metadata": {},
   "outputs": [],
   "source": [
    "from snowflake.snowpark.session import Session\n",
    "import snowflake.snowpark.functions as F\n",
    "import snowflake.snowpark.types as T\n",
    "\n",
    "import getpass\n",
    "import pandas as pd"
   ]
  },
  {
   "cell_type": "markdown",
   "id": "dccba6fd",
   "metadata": {},
   "source": [
    "## Create Snowpark Session"
   ]
  },
  {
   "cell_type": "code",
   "execution_count": 2,
   "id": "9abd243f",
   "metadata": {},
   "outputs": [
    {
     "name": "stdout",
     "output_type": "stream",
     "text": [
      "········\n"
     ]
    }
   ],
   "source": [
    "accountname = getpass.getpass() # ORGNAME-ACCOUNTNAME (separated by minus sign)"
   ]
  },
  {
   "cell_type": "code",
   "execution_count": 3,
   "id": "8bfe26ca",
   "metadata": {},
   "outputs": [
    {
     "name": "stdout",
     "output_type": "stream",
     "text": [
      "········\n"
     ]
    }
   ],
   "source": [
    "username = getpass.getpass()    # SNOWFLAKE-USERNAME"
   ]
  },
  {
   "cell_type": "code",
   "execution_count": 4,
   "id": "53cd8c1a",
   "metadata": {},
   "outputs": [
    {
     "name": "stdout",
     "output_type": "stream",
     "text": [
      "········\n"
     ]
    }
   ],
   "source": [
    "password = getpass.getpass()    # SNOWFLAKE-PASSWORD"
   ]
  },
  {
   "cell_type": "code",
   "execution_count": 5,
   "id": "8568f0ef",
   "metadata": {},
   "outputs": [],
   "source": [
    "connection_parameters = {\n",
    "    \"account\": accountname,\n",
    "    \"user\": username,\n",
    "    \"password\": password,\n",
    "    \"role\": \"ACCOUNTADMIN\"\n",
    "}\n",
    "\n",
    "session = Session.builder.configs(connection_parameters).create()"
   ]
  },
  {
   "cell_type": "markdown",
   "id": "65d6ed51",
   "metadata": {},
   "source": [
    "## Create Virtual Warehouse (Compute)"
   ]
  },
  {
   "cell_type": "code",
   "execution_count": 6,
   "id": "496c37d2",
   "metadata": {},
   "outputs": [
    {
     "data": {
      "text/plain": [
       "[Row(status='Warehouse HOL_WH successfully created.')]"
      ]
     },
     "execution_count": 6,
     "metadata": {},
     "output_type": "execute_result"
    }
   ],
   "source": [
    "# Create a Virtual Warehouse\n",
    "session.sql(\"CREATE OR REPLACE WAREHOUSE HOL_WH WITH WAREHOUSE_SIZE='X-SMALL'\").collect()"
   ]
  },
  {
   "cell_type": "markdown",
   "id": "dfa9eced",
   "metadata": {},
   "source": [
    "## Create Database for HOL"
   ]
  },
  {
   "cell_type": "code",
   "execution_count": 7,
   "id": "e8fe80b8",
   "metadata": {},
   "outputs": [
    {
     "data": {
      "text/plain": [
       "[Row(status='Database HOL_DB successfully created.')]"
      ]
     },
     "execution_count": 7,
     "metadata": {},
     "output_type": "execute_result"
    }
   ],
   "source": [
    "# Create Databse\n",
    "session.sql(\"CREATE OR REPLACE DATABASE HOL_DB\").collect()"
   ]
  },
  {
   "cell_type": "markdown",
   "id": "33dc96fd",
   "metadata": {},
   "source": [
    "## Load HOL data into Snowflake"
   ]
  },
  {
   "cell_type": "code",
   "execution_count": 8,
   "id": "dca48415",
   "metadata": {},
   "outputs": [],
   "source": [
    "# Loading from local CSV-files\n",
    "application_record_df = pd.read_csv('data/application_record.csv.zip')\n",
    "credit_record_df = pd.read_csv('data/credit_record.csv.zip')"
   ]
  },
  {
   "cell_type": "code",
   "execution_count": 9,
   "id": "7d0c4924",
   "metadata": {},
   "outputs": [
    {
     "data": {
      "text/plain": [
       "<snowflake.snowpark.table.Table at 0x7fdda883a610>"
      ]
     },
     "execution_count": 9,
     "metadata": {},
     "output_type": "execute_result"
    }
   ],
   "source": [
    "# Upload to Snowflake\n",
    "session.write_pandas(application_record_df, table_name='APPLICATION_RECORD', auto_create_table=True, overwrite=True)\n",
    "session.write_pandas(credit_record_df, table_name='CREDIT_RECORD', auto_create_table=True, overwrite=True)"
   ]
  }
 ],
 "metadata": {
  "kernelspec": {
   "display_name": "Python 3 (ipykernel)",
   "language": "python",
   "name": "python3"
  },
  "language_info": {
   "codemirror_mode": {
    "name": "ipython",
    "version": 3
   },
   "file_extension": ".py",
   "mimetype": "text/x-python",
   "name": "python",
   "nbconvert_exporter": "python",
   "pygments_lexer": "ipython3",
   "version": "3.8.13"
  }
 },
 "nbformat": 4,
 "nbformat_minor": 5
}
